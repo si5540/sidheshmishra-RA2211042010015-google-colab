{
  "nbformat": 4,
  "nbformat_minor": 0,
  "metadata": {
    "colab": {
      "provenance": [],
      "authorship_tag": "ABX9TyOxp5RX+4e1QzmHrJJuGekr",
      "include_colab_link": true
    },
    "kernelspec": {
      "name": "python3",
      "display_name": "Python 3"
    },
    "language_info": {
      "name": "python"
    }
  },
  "cells": [
    {
      "cell_type": "markdown",
      "metadata": {
        "id": "view-in-github",
        "colab_type": "text"
      },
      "source": [
        "<a href=\"https://colab.research.google.com/github/si5540/sidheshmishra-RA2211042010015-google-colab/blob/main/Sidhesh_Mishra(RA2211042010015).ipynb\" target=\"_parent\"><img src=\"https://colab.research.google.com/assets/colab-badge.svg\" alt=\"Open In Colab\"/></a>"
      ]
    },
    {
      "cell_type": "code",
      "execution_count": 1,
      "metadata": {
        "colab": {
          "base_uri": "https://localhost:8080/"
        },
        "id": "qvBtITjOJ0HD",
        "outputId": "f8f2c990-b4f1-4485-9336-211d9f9407a0"
      },
      "outputs": [
        {
          "output_type": "execute_result",
          "data": {
            "text/plain": [
              "35"
            ]
          },
          "metadata": {},
          "execution_count": 1
        }
      ],
      "source": [
        "15+20"
      ]
    },
    {
      "cell_type": "code",
      "source": [
        "a=12\n",
        "b=13\n",
        "print(\"a,b\")"
      ],
      "metadata": {
        "colab": {
          "base_uri": "https://localhost:8080/"
        },
        "id": "CelvTlVcNqNi",
        "outputId": "88bf7699-597c-4cb3-c908-150ad94ae632"
      },
      "execution_count": 2,
      "outputs": [
        {
          "output_type": "stream",
          "name": "stdout",
          "text": [
            "a,b\n"
          ]
        }
      ]
    },
    {
      "cell_type": "code",
      "source": [
        "6 > 7\n",
        "print(\"six is greater than seven\")"
      ],
      "metadata": {
        "colab": {
          "base_uri": "https://localhost:8080/"
        },
        "id": "vlzJbNi8OJYd",
        "outputId": "3c804000-e8f1-4668-c6d2-f7eef80d3e52"
      },
      "execution_count": 3,
      "outputs": [
        {
          "output_type": "stream",
          "name": "stdout",
          "text": [
            "six is greater than seven\n"
          ]
        }
      ]
    },
    {
      "cell_type": "code",
      "source": [
        "x = \"sidhesh\"\n",
        "y = 4\n",
        "print(x)\n",
        "print(y)"
      ],
      "metadata": {
        "colab": {
          "base_uri": "https://localhost:8080/"
        },
        "id": "rgcY7RchR7SA",
        "outputId": "e1c26d1d-bb6d-4d06-9ccd-8862e4494585"
      },
      "execution_count": 5,
      "outputs": [
        {
          "output_type": "stream",
          "name": "stdout",
          "text": [
            "sidhesh\n",
            "4\n"
          ]
        }
      ]
    },
    {
      "cell_type": "code",
      "source": [
        "x = str(3) #x will be '3'\n",
        "y = int(6) #y will be '4'\n",
        "z = float(9) #z will be '5'"
      ],
      "metadata": {
        "id": "abfeeFk8TCtg"
      },
      "execution_count": 8,
      "outputs": []
    },
    {
      "cell_type": "code",
      "source": [
        "a = \"jolly\"\n",
        "A = '3'\n",
        "#A will not overwrite a"
      ],
      "metadata": {
        "id": "cZ7hx5vzTuJr"
      },
      "execution_count": 10,
      "outputs": []
    },
    {
      "cell_type": "code",
      "source": [
        "x = \"I \"\n",
        "y = \"can \"\n",
        "z = \"do this\"\n",
        "print(x+y+z)"
      ],
      "metadata": {
        "colab": {
          "base_uri": "https://localhost:8080/"
        },
        "id": "-XQubEASUngl",
        "outputId": "be889e3c-f3f8-4635-d2ef-7c9abf02d6b7"
      },
      "execution_count": 13,
      "outputs": [
        {
          "output_type": "stream",
          "name": "stdout",
          "text": [
            "I can do this\n"
          ]
        }
      ]
    },
    {
      "cell_type": "code",
      "source": [
        "x = 5\n",
        "y = 16\n",
        "print(x + y)"
      ],
      "metadata": {
        "colab": {
          "base_uri": "https://localhost:8080/"
        },
        "id": "IGJ4qxFLVw7g",
        "outputId": "677f1db6-d7cc-47d8-8a65-e9b99b50a8c1"
      },
      "execution_count": 16,
      "outputs": [
        {
          "output_type": "stream",
          "name": "stdout",
          "text": [
            "21\n"
          ]
        }
      ]
    },
    {
      "cell_type": "code",
      "source": [
        "x = 12\n",
        "print(bool(12))"
      ],
      "metadata": {
        "colab": {
          "base_uri": "https://localhost:8080/"
        },
        "id": "XIWpVH-DWAXM",
        "outputId": "efea590e-6923-4cc2-dc7f-50dc47b830e7"
      },
      "execution_count": 17,
      "outputs": [
        {
          "output_type": "stream",
          "name": "stdout",
          "text": [
            "True\n"
          ]
        }
      ]
    },
    {
      "cell_type": "code",
      "source": [
        "x = 4\n",
        "print(bytearray(4))"
      ],
      "metadata": {
        "colab": {
          "base_uri": "https://localhost:8080/"
        },
        "id": "3hGvL8wqXNkd",
        "outputId": "573bf48a-1af7-4b63-96d9-7af45451fbd7"
      },
      "execution_count": 18,
      "outputs": [
        {
          "output_type": "stream",
          "name": "stdout",
          "text": [
            "bytearray(b'\\x00\\x00\\x00\\x00')\n"
          ]
        }
      ]
    },
    {
      "cell_type": "code",
      "source": [
        "x = frozenset ({\"iron\", \"glass\", \"metal\"})\n",
        "print(frozenset((\"iron\", \"glass\", \"metal\"))"
      ],
      "metadata": {
        "colab": {
          "base_uri": "https://localhost:8080/",
          "height": 131
        },
        "id": "_6cIGrM8XsX4",
        "outputId": "5311a1e3-b05b-4865-c04e-ee3fb60548fa"
      },
      "execution_count": 23,
      "outputs": [
        {
          "output_type": "error",
          "ename": "SyntaxError",
          "evalue": "ignored",
          "traceback": [
            "\u001b[0;36m  File \u001b[0;32m\"<ipython-input-23-6440b9e48f8f>\"\u001b[0;36m, line \u001b[0;32m2\u001b[0m\n\u001b[0;31m    print(frozenset((\"iron\", \"glass\", \"metal\"))\u001b[0m\n\u001b[0m                                               ^\u001b[0m\n\u001b[0;31mSyntaxError\u001b[0m\u001b[0;31m:\u001b[0m unexpected EOF while parsing\n"
          ]
        }
      ]
    },
    {
      "cell_type": "code",
      "source": [],
      "metadata": {
        "id": "WhbPGlOkZNRu"
      },
      "execution_count": null,
      "outputs": []
    }
  ]
}