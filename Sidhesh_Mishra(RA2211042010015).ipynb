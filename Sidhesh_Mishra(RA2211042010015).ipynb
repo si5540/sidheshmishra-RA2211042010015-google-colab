{
  "nbformat": 4,
  "nbformat_minor": 0,
  "metadata": {
    "colab": {
      "provenance": [],
      "authorship_tag": "ABX9TyNAt9eB0yGN1r/IrUNepLir",
      "include_colab_link": true
    },
    "kernelspec": {
      "name": "python3",
      "display_name": "Python 3"
    },
    "language_info": {
      "name": "python"
    }
  },
  "cells": [
    {
      "cell_type": "markdown",
      "metadata": {
        "id": "view-in-github",
        "colab_type": "text"
      },
      "source": [
        "<a href=\"https://colab.research.google.com/github/si5540/sidheshmishra-RA2211042010015-google-colab/blob/main/Sidhesh_Mishra(RA2211042010015).ipynb\" target=\"_parent\"><img src=\"https://colab.research.google.com/assets/colab-badge.svg\" alt=\"Open In Colab\"/></a>"
      ]
    },
    {
      "cell_type": "code",
      "execution_count": 1,
      "metadata": {
        "colab": {
          "base_uri": "https://localhost:8080/"
        },
        "id": "qvBtITjOJ0HD",
        "outputId": "f8f2c990-b4f1-4485-9336-211d9f9407a0"
      },
      "outputs": [
        {
          "output_type": "execute_result",
          "data": {
            "text/plain": [
              "35"
            ]
          },
          "metadata": {},
          "execution_count": 1
        }
      ],
      "source": [
        "15+20"
      ]
    },
    {
      "cell_type": "code",
      "source": [
        "a=12\n",
        "b=13\n",
        "print(\"a,b\")"
      ],
      "metadata": {
        "colab": {
          "base_uri": "https://localhost:8080/"
        },
        "id": "CelvTlVcNqNi",
        "outputId": "88bf7699-597c-4cb3-c908-150ad94ae632"
      },
      "execution_count": 2,
      "outputs": [
        {
          "output_type": "stream",
          "name": "stdout",
          "text": [
            "a,b\n"
          ]
        }
      ]
    },
    {
      "cell_type": "code",
      "source": [
        "6 > 7\n",
        "print(\"six is greater than seven\")"
      ],
      "metadata": {
        "colab": {
          "base_uri": "https://localhost:8080/"
        },
        "id": "vlzJbNi8OJYd",
        "outputId": "3c804000-e8f1-4668-c6d2-f7eef80d3e52"
      },
      "execution_count": 3,
      "outputs": [
        {
          "output_type": "stream",
          "name": "stdout",
          "text": [
            "six is greater than seven\n"
          ]
        }
      ]
    }
  ]
}